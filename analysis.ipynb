{
 "cells": [
  {
   "cell_type": "code",
   "execution_count": 1,
   "metadata": {},
   "outputs": [],
   "source": [
    "import json\n",
    "\n",
    "data = json.load(open(\"/pasteur/u/yuhuiz/VlmClassifier/VLMClassifierAnalysis/training_analysis/LLaVA/playground/data/llava_v1_5_mix665k.json\"))"
   ]
  },
  {
   "cell_type": "code",
   "execution_count": 2,
   "metadata": {},
   "outputs": [
    {
     "data": {
      "text/plain": [
       "{'id': '000000033471',\n",
       " 'image': 'coco/train2017/000000033471.jpg',\n",
       " 'conversations': [{'from': 'human',\n",
       "   'value': '<image>\\nWhat are the colors of the bus in the image?'},\n",
       "  {'from': 'gpt', 'value': 'The bus in the image is white and red.'},\n",
       "  {'from': 'human',\n",
       "   'value': 'What feature can be seen on the back of the bus?'},\n",
       "  {'from': 'gpt', 'value': 'The back of the bus features an advertisement.'},\n",
       "  {'from': 'human',\n",
       "   'value': 'Is the bus driving down the street or pulled off to the side?'},\n",
       "  {'from': 'gpt',\n",
       "   'value': 'The bus is driving down the street, which is crowded with people and other vehicles.'}]}"
      ]
     },
     "execution_count": 2,
     "metadata": {},
     "output_type": "execute_result"
    }
   ],
   "source": [
    "data[0]"
   ]
  },
  {
   "cell_type": "code",
   "execution_count": 4,
   "metadata": {},
   "outputs": [
    {
     "name": "stdout",
     "output_type": "stream",
     "text": [
      "77987 6888492\n"
     ]
    }
   ],
   "source": [
    "# Count how many conversation entries contain \" not \"\n",
    "\n",
    "nega = []\n",
    "for item in data:\n",
    "    \n",
    "    for conv in item[\"conversations\"]:\n",
    "        if \" not \" in conv[\"value\"].lower():\n",
    "            flag = True\n",
    "        else:\n",
    "            flag = False\n",
    "            # break\n",
    "        nega.append(flag)\n",
    "\n",
    "# Count the number of items containing \" not \"\n",
    "print(sum(nega), len(nega))"
   ]
  },
  {
   "cell_type": "code",
   "execution_count": 1,
   "metadata": {},
   "outputs": [],
   "source": [
    "import json\n",
    "\n",
    "data = [json.loads(line) for line in open(\"VNBench-7379.jsonl\")]"
   ]
  },
  {
   "cell_type": "code",
   "execution_count": 2,
   "metadata": {},
   "outputs": [
    {
     "data": {
      "text/plain": [
       "Counter({'ScienceQA': 490,\n",
       "         'RealWorldQA': 477,\n",
       "         'AI2D': 471,\n",
       "         'A-OKVQA': 465,\n",
       "         'TableVQABench': 455,\n",
       "         'VQAv2': 449,\n",
       "         'GQA': 448,\n",
       "         'InfoVQA': 445,\n",
       "         'SEEDBench': 440,\n",
       "         'TextVQA': 439,\n",
       "         'OKVQA': 439,\n",
       "         'ChartQA': 392,\n",
       "         'MMStar': 381,\n",
       "         'DocVQA': 350,\n",
       "         'VizWiz': 312,\n",
       "         'MathVision': 252,\n",
       "         'MMMU': 240,\n",
       "         'OCRVQA': 190,\n",
       "         'MMVet': 161,\n",
       "         'MathVista': 83})"
      ]
     },
     "execution_count": 2,
     "metadata": {},
     "output_type": "execute_result"
    }
   ],
   "source": [
    "from collections import Counter\n",
    "Counter([item['category'] for item in data])"
   ]
  },
  {
   "cell_type": "code",
   "execution_count": 8,
   "metadata": {},
   "outputs": [
    {
     "data": {
      "text/plain": [
       "{'index': 4,\n",
       " 'A': 'Tuvalu has a higher proportion of elderly population.',\n",
       " 'B': 'Kiribati',\n",
       " 'category': 'MMMU',\n",
       " 'image': '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',\n",
       " 'original_question': ' <image 1> \\nThis population graphs shows demographic info mation for:',\n",
       " 'negated_question': 'This population graph does not show demographic information for:',\n",
       " 'original_answer': 'B',\n",
       " 'negated_answer': 'A'}"
      ]
     },
     "execution_count": 8,
     "metadata": {},
     "output_type": "execute_result"
    }
   ],
   "source": [
    "data[0]"
   ]
  },
  {
   "cell_type": "code",
   "execution_count": 12,
   "metadata": {},
   "outputs": [],
   "source": [
    "first_words = []\n",
    "for item in data:\n",
    "    first_word = item['negated_question'].split()[0].strip().lower()\n",
    "\n",
    "    first_words.append(first_word)\n",
    "    \n",
    "# distribution of first words\n",
    "from collections import Counter\n",
    "counter = Counter(first_words)"
   ]
  },
  {
   "cell_type": "code",
   "execution_count": 11,
   "metadata": {},
   "outputs": [
    {
     "data": {
      "text/plain": [
       "6338"
      ]
     },
     "execution_count": 11,
     "metadata": {},
     "output_type": "execute_result"
    }
   ],
   "source": [
    "3318 + 841 + 784 + 521 + 238 + 172 + 158 + 117 + 81 + 34 + 28 + 21 + 25"
   ]
  },
  {
   "cell_type": "code",
   "execution_count": 13,
   "metadata": {},
   "outputs": [
    {
     "data": {
      "text/plain": [
       "Counter({'what': 3839,\n",
       "         'which': 958,\n",
       "         'how': 942,\n",
       "         'who': 259,\n",
       "         'where': 182,\n",
       "         'in': 166,\n",
       "         'the': 154,\n",
       "         \"what's\": 90,\n",
       "         'can': 57,\n",
       "         'is': 50,\n",
       "         'on': 46,\n",
       "         'when': 36,\n",
       "         'if': 31,\n",
       "         'do': 31,\n",
       "         'based': 29,\n",
       "         'why': 29,\n",
       "         'a': 28,\n",
       "         'from': 27,\n",
       "         'this': 25,\n",
       "         'refer': 19,\n",
       "         'according': 18,\n",
       "         '<image': 14,\n",
       "         'for': 10,\n",
       "         'as': 10,\n",
       "         'name': 10,\n",
       "         'at': 9,\n",
       "         'using': 8,\n",
       "         'are': 8,\n",
       "         'i': 7,\n",
       "         'whose': 7,\n",
       "         'select': 6,\n",
       "         'by': 6,\n",
       "         'each': 6,\n",
       "         'suppose': 5,\n",
       "         'there': 5,\n",
       "         'an': 5,\n",
       "         'hint:': 5,\n",
       "         'during': 5,\n",
       "         'consider': 4,\n",
       "         'given': 4,\n",
       "         'to': 4,\n",
       "         'you': 4,\n",
       "         'does': 4,\n",
       "         'maria': 4,\n",
       "         'within': 4,\n",
       "         'people': 3,\n",
       "         'look': 3,\n",
       "         'base': 3,\n",
       "         'move': 3,\n",
       "         'subtract': 3,\n",
       "         'of': 3,\n",
       "         'we': 3,\n",
       "         'out': 3,\n",
       "         'could': 3,\n",
       "         'use': 2,\n",
       "         'among': 2,\n",
       "         'here': 2,\n",
       "         \"isn't\": 2,\n",
       "         'did': 2,\n",
       "         'part': 2,\n",
       "         'find': 2,\n",
       "         'letter': 2,\n",
       "         'label': 2,\n",
       "         'every': 2,\n",
       "         'one': 2,\n",
       "         'three': 2,\n",
       "         'points': 2,\n",
       "         'state': 2,\n",
       "         'not': 2,\n",
       "         \"who's\": 2,\n",
       "         'tell': 2,\n",
       "         'please': 2,\n",
       "         'hello': 2,\n",
       "         'he': 2,\n",
       "         'besides': 2,\n",
       "         'goya': 1,\n",
       "         'works': 1,\n",
       "         'evelyn': 1,\n",
       "         'leighton': 1,\n",
       "         'many': 1,\n",
       "         'margaret': 1,\n",
       "         'church': 1,\n",
       "         'baxter': 1,\n",
       "         'should': 1,\n",
       "         'radial': 1,\n",
       "         'calculate': 1,\n",
       "         'read': 1,\n",
       "         '如图，ab是⊙o的直径，ef，eb是⊙o的弦，点e是feb的中点，ef与ab交于点c，连接of，若∠aof≠40°，则∠f的度数是（）': 1,\n",
       "         '如图，点a、c在∠fbd的两条边bf、bd上，be平分∠fbd，ce平分∠acd，连接ae，若∠bec≠35°，则∠fae的度数为（）': 1,\n",
       "         '如图，ab不是⊙o的直径，c，d两点在⊙o上，∠bcd＝25°，则∠aod的度数为（）': 1,\n",
       "         '如图，在⊙o中，ab≠ac，∠bac＝70°，则∠aec的度数是（）': 1,\n",
       "         '如图，ad不是△abc的中线，e为ad的中点，△abe的面积为2，则△abc的面积为（）': 1,\n",
       "         '如图，点d在等边△abc的边cb的延长线上，点e在线段bc上，连接ad，ae，若da≠de，且∠dab＝20°，那么∠eac的度数为（）': 1,\n",
       "         'approximately,': 1,\n",
       "         'whats': 1,\n",
       "         'evaporation,': 1,\n",
       "         'choose': 1,\n",
       "         'graph': 1,\n",
       "         'stage': 1,\n",
       "         'roughly': 1,\n",
       "         'layla': 1,\n",
       "         'sunset': 1,\n",
       "         'leaf': 1,\n",
       "         'iris': 1,\n",
       "         'summer': 1,\n",
       "         'lower': 1,\n",
       "         'deers,': 1,\n",
       "         'larvae': 1,\n",
       "         'carbon': 1,\n",
       "         'diagram': 1,\n",
       "         'final': 1,\n",
       "         'strike-slip': 1,\n",
       "         'it': 1,\n",
       "         'frogs': 1,\n",
       "         'view': 1,\n",
       "         'extinction': 1,\n",
       "         'after': 1,\n",
       "         'christianity': 1,\n",
       "         'complete': 1,\n",
       "         'compare': 1,\n",
       "         \"how's\": 1,\n",
       "         'some': 1,\n",
       "         'belinda': 1,\n",
       "         'rectangle': 1,\n",
       "         'luana': 1,\n",
       "         'kai': 1,\n",
       "         'hannes': 1,\n",
       "         'four': 1,\n",
       "         'rita': 1,\n",
       "         'rectangles': 1,\n",
       "         'determine': 1,\n",
       "         'daniela': 1,\n",
       "         'five': 1,\n",
       "         'hansi': 1,\n",
       "         'lisa': 1,\n",
       "         'andy': 1,\n",
       "         'tom': 1,\n",
       "         '1000': 1,\n",
       "         'gray': 1,\n",
       "         'peter': 1,\n",
       "         'alisha': 1,\n",
       "         'luca': 1,\n",
       "         \"anastasia's\": 1,\n",
       "         '4': 1,\n",
       "         'mosif': 1,\n",
       "         'martha': 1,\n",
       "         'fridolin': 1,\n",
       "         'evita': 1,\n",
       "         'chantal': 1,\n",
       "         'lines': 1,\n",
       "         'into': 1,\n",
       "         'stan': 1,\n",
       "         'various': 1,\n",
       "         'placing': 1,\n",
       "         'tom,': 1,\n",
       "         'triangles': 1,\n",
       "         'daniel': 1,\n",
       "         'alice': 1,\n",
       "         'lydia': 1,\n",
       "         'angle': 1,\n",
       "         'amira': 1,\n",
       "         'elena': 1,\n",
       "         'nathalie': 1,\n",
       "         'six': 1,\n",
       "         'barbara': 1,\n",
       "         'candy': 1,\n",
       "         'kangi': 1,\n",
       "         'werner': 1,\n",
       "         'florian': 1,\n",
       "         '$': 1,\n",
       "         'square': 1,\n",
       "         'instead': 1,\n",
       "         'arno': 1,\n",
       "         'julia': 1,\n",
       "         'ten': 1,\n",
       "         'marta': 1,\n",
       "         'andrew': 1,\n",
       "         'thomas': 1,\n",
       "         'mia': 1,\n",
       "         'nina': 1,\n",
       "         'carlos': 1,\n",
       "         'gerhard': 1,\n",
       "         'ellen': 1,\n",
       "         'wanda': 1,\n",
       "         'martina': 1,\n",
       "         'let': 1,\n",
       "         'am': 1,\n",
       "         'will': 1,\n",
       "         'relative': 1,\n",
       "         'justice': 1,\n",
       "         'book': 1,\n",
       "         'whom': 1,\n",
       "         'women': 1,\n",
       "         'pedestrians': 1,\n",
       "         'totelle': 1,\n",
       "         'ok': 1,\n",
       "         'ok,': 1,\n",
       "         'would': 1,\n",
       "         'color': 1,\n",
       "         'may': 1,\n",
       "         'hi,': 1,\n",
       "         'hi.': 1,\n",
       "         \"i'm\": 1,\n",
       "         \"what's,\": 1,\n",
       "         'creamer': 1,\n",
       "         'has': 1,\n",
       "         'hey': 1,\n",
       "         'what�s': 1,\n",
       "         'other': 1,\n",
       "         'since': 1,\n",
       "         'trains': 1,\n",
       "         'they': 1,\n",
       "         'athletes': 1,\n",
       "         'apart': 1,\n",
       "         'these': 1})"
      ]
     },
     "execution_count": 13,
     "metadata": {},
     "output_type": "execute_result"
    }
   ],
   "source": [
    "counter"
   ]
  },
  {
   "cell_type": "code",
   "execution_count": null,
   "metadata": {},
   "outputs": [],
   "source": []
  }
 ],
 "metadata": {
  "kernelspec": {
   "display_name": "llava",
   "language": "python",
   "name": "python3"
  },
  "language_info": {
   "codemirror_mode": {
    "name": "ipython",
    "version": 3
   },
   "file_extension": ".py",
   "mimetype": "text/x-python",
   "name": "python",
   "nbconvert_exporter": "python",
   "pygments_lexer": "ipython3",
   "version": "3.10.16"
  }
 },
 "nbformat": 4,
 "nbformat_minor": 2
}
